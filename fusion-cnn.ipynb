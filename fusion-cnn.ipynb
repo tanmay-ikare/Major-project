{
 "cells": [
  {
   "cell_type": "code",
   "execution_count": 2,
   "metadata": {
    "scrolled": false
   },
   "outputs": [
    {
     "name": "stdout",
     "output_type": "stream",
     "text": [
      "['test', 'train']\n"
     ]
    },
    {
     "data": {
      "text/plain": [
       "'2.8.0'"
      ]
     },
     "execution_count": 2,
     "metadata": {},
     "output_type": "execute_result"
    }
   ],
   "source": [
    "%matplotlib inline\n",
    "import os\n",
    "import time \n",
    "import numpy as np\n",
    "import pandas as pd\n",
    "import matplotlib as mt\n",
    "import matplotlib.pyplot as plt\n",
    "import matplotlib.image as mpimg\n",
    "\n",
    "from tensorflow.keras.layers import *\n",
    "from tensorflow.keras.models import Sequential, load_model, save_model, Model\n",
    "from tensorflow.keras.preprocessing import image\n",
    "from tensorflow.keras.preprocessing.image import ImageDataGenerator\n",
    "from tensorflow.keras.layers import Input, Conv3D, MaxPooling3D, Dense, Flatten, Dropout\n",
    "from tensorflow.keras.optimizers import Adam\n",
    "from tensorflow.keras.metrics import Accuracy, Precision,Recall, AUC\n",
    "import tensorflow as tf\n",
    "\n",
    "print(os.listdir('2000_images'))\n",
    "tf.__version__"
   ]
  },
  {
   "cell_type": "code",
   "execution_count": null,
   "metadata": {},
   "outputs": [],
   "source": [
    "WIDTH, HEIGHT, DEPTH, CHANNEL = 64,64,64,3\n",
    "\n",
    "inputs = Input((WIDTH, HEIGHT, DEPTH, CHANNEL))"
   ]
  },
  {
   "cell_type": "code",
   "execution_count": null,
   "metadata": {},
   "outputs": [],
   "source": [
    "#-----Arch.1--------\n",
    "\n",
    "x = Conv3D(32, (3, 3, 3), padding='same', activation='relu')(inputs)\n",
    "x = MaxPooling3D(pool_size=(2, 2, 2))(x)\n",
    "\n",
    "x=Flatten()(x)\n",
    "\n",
    "#-----Arch.2--------\n",
    "\n",
    "y = Conv3D(32, (3, 3, 3), padding='same', activation='relu')(inputs)\n",
    "y = MaxPooling3D(pool_size=(2, 2, 2))(y)\n",
    "\n",
    "y=Flatten()(y)\n",
    "\n",
    "#---------Arch.3---------------\n",
    "\n",
    "z = Conv3D(32, (3, 3, 3), padding='same', activation='relu')(inputs)\n",
    "z = MaxPooling3D(pool_size=(2, 2, 2))(z)\n",
    "\n",
    "\n",
    "z = Flatten()(z)\n",
    "\n",
    "#------------------------------------------\n",
    "\n",
    "\n",
    "fusion = concatenate([x,y])\n",
    "fusion = concatenate([fusion,z])\n",
    "\n",
    "fusion = Dense(1, activation='sigmoid')(fusion)\n",
    "\n",
    "\n",
    "\n",
    "model = Model(inputs=inputs, outputs=(fusion))\n",
    "\n",
    "METRICS = [Accuracy(),Precision(name=\"precision\"), Recall(name=\"recall\"),AUC(name=\"AUC\")]\n",
    "\n",
    "model.compile(optimizer='adam', loss='binary_crossentropy', metrics=METRICS)\n",
    "\n",
    "model.summary()"
   ]
  },
  {
   "cell_type": "code",
   "execution_count": null,
   "metadata": {},
   "outputs": [],
   "source": [
    "len(model.weights)"
   ]
  },
  {
   "cell_type": "code",
   "execution_count": null,
   "metadata": {
    "scrolled": false
   },
   "outputs": [],
   "source": [
    "# Train and Test the model\n",
    "start= time.time()\n",
    "\n",
    "\n",
    "train_datagen = ImageDataGenerator(rescale = 1./255,\n",
    "                                   shear_range = 0.2,\n",
    "                                   zoom_range = 0.2,\n",
    "                                   horizontal_flip = True)\n",
    "\n",
    "test_datagen = ImageDataGenerator(rescale = 1./255)\n",
    "\n",
    "\n",
    "training_set = train_datagen.flow_from_directory(\"../input/2000-images/2000 images/train\",\n",
    "                                                 target_size = (64,64,64),\n",
    "                                                 batch_size = 3,\n",
    "                                                 class_mode =  'binary')\n",
    "\n",
    "test_set = test_datagen.flow_from_directory(\"../input/2000-images/2000 images/test\",\n",
    "                                            target_size = (64,64,64),\n",
    "                                            batch_size = 3,\n",
    "                                            class_mode =  'binary')"
   ]
  },
  {
   "cell_type": "code",
   "execution_count": null,
   "metadata": {},
   "outputs": [],
   "source": [
    "model.fit(training_set,batch_size = 3, steps_per_epoch = 10, epochs = 30, validation_data=test_set)\n",
    "print(\"Done in %.2f s.\" % (time.time() - start))"
   ]
  },
  {
   "cell_type": "code",
   "execution_count": null,
   "metadata": {
    "scrolled": false
   },
   "outputs": [],
   "source": [
    "imdim = (64,64,64,3)\n",
    "\n",
    "enterimg = input(\"Enter the path of image \")   \n",
    "test_image = image.load_img(enterimg)\n",
    "print('-'*60)                                              \n",
    "\n",
    "test_image = image.img_to_array(test_image).reshape((imdim[0],imdim[1],imdim[2],imdim[3]))\n",
    "test_image = np.expand_dims(test_image, axis=0)\n",
    "\n",
    "\n",
    "result = model.predict(test_image)\n",
    "training_set.class_indices\n",
    "\n",
    "if result[0][0] == 1:\n",
    "    prediction = 'Found'\n",
    "    print('Lung Cancer Detected !')\n",
    "else:\n",
    "    print('Lung Cancer is not detected !')\n",
    "    \n",
    "print('-'*60)                                              \n",
    "\n",
    "\n",
    "\n",
    "# display result\n",
    "img = mpimg.imread(enterimg)\n",
    "imgplot = plt.imshow(img)\n",
    "plt.show()"
   ]
  },
  {
   "cell_type": "code",
   "execution_count": null,
   "metadata": {
    "scrolled": false
   },
   "outputs": [],
   "source": [
    "print(res.history.keys())"
   ]
  },
  {
   "cell_type": "code",
   "execution_count": null,
   "metadata": {
    "scrolled": false
   },
   "outputs": [],
   "source": [
    "# Analysis\n",
    "\n",
    "# plot the loss\n",
    "plt.plot(res.history['loss'] ,'g')\n",
    "plt.plot(res.history['val_loss'] , 'b')\n",
    "plt.title('Model loss')\n",
    "plt.ylabel('loss')\n",
    "plt.xlabel('epoch')\n",
    "plt.legend(['train loss','Val loss'], loc='upper right')\n",
    "plt.show()\n",
    "plt.savefig('lossVal_loss')\n",
    "\n",
    "# plot the accuracy\n",
    "plt.plot(res.history['accuracy'])\n",
    "plt.plot(res.history['val_accuracy'])\n",
    "plt.title('Model accuracy')\n",
    "plt.ylabel('accuracy')\n",
    "plt.xlabel('epoch')\n",
    "plt.legend(['train acc','Val acc'], loc='upper right')\n",
    "plt.show()\n",
    "plt.savefig('AccuracyVal_acc')\n",
    "\n",
    "\n",
    "print('\\nTRAIN METRIC ----------------------')\n",
    "print('Train acc: {}'.format(np.round((res.history['accuracy'][-1])*100, 2)))\n",
    "\n",
    "print('\\nTEST METRIC ----------------------')\n",
    "print('Test acc: {}'.format(np.round((res.history['val_accuracy'][-1])*100, 2)))"
   ]
  },
  {
   "cell_type": "code",
   "execution_count": null,
   "metadata": {
    "scrolled": false
   },
   "outputs": [],
   "source": []
  }
 ],
 "metadata": {
  "kernelspec": {
   "display_name": "Python 3",
   "language": "python",
   "name": "python3"
  },
  "language_info": {
   "codemirror_mode": {
    "name": "ipython",
    "version": 3
   },
   "file_extension": ".py",
   "mimetype": "text/x-python",
   "name": "python",
   "nbconvert_exporter": "python",
   "pygments_lexer": "ipython3",
   "version": "3.10.4"
  }
 },
 "nbformat": 4,
 "nbformat_minor": 4
}
